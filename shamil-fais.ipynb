{
  "cells": [
    {
      "cell_type": "code",
      "execution_count": null,
      "metadata": {
        "id": "KAqvpEfYtABG"
      },
      "outputs": [],
      "source": [
        "import os\n",
        "import warnings\n",
        "\n",
        "import numpy as np # linear algebra\n",
        "import pandas as pd # data processing, CSV file I/O (e.g. pd.read_csv)\n",
        "import scipy.sparse as sp\n",
        "\n",
        "import matplotlib.pyplot as plt\n",
        "import seaborn as sns\n",
        "%matplotlib inline\n",
        "\n",
        "from tqdm.auto import tqdm\n",
        "\n",
        "#Set up Screen output\n",
        "pd.set_option('display.max_columns', 200)\n",
        "\n",
        "# Игнорируем назойливые предупреждения\n",
        "warnings.simplefilter(\"ignore\", FutureWarning)\n",
        "warnings.simplefilter(\"ignore\", UserWarning)"
      ]
    },
    {
      "cell_type": "code",
      "execution_count": null,
      "metadata": {
        "colab": {
          "base_uri": "https://localhost:8080/"
        },
        "id": "wnMUCpZmsxUM",
        "outputId": "bbe8beec-5fcb-40ee-badb-391e29d61cb8"
      },
      "outputs": [
        {
          "name": "stdout",
          "output_type": "stream",
          "text": [
            "Drive already mounted at /content/drive; to attempt to forcibly remount, call drive.mount(\"/content/drive\", force_remount=True).\n"
          ]
        }
      ],
      "source": [
        "from google.colab import drive\n",
        "drive.mount('/content/drive')"
      ]
    },
    {
      "cell_type": "code",
      "execution_count": null,
      "metadata": {
        "id": "3Mg7V2-Zsuv6"
      },
      "outputs": [],
      "source": [
        "DATA_DIR = \"/content/drive/MyDrive/hack_the_crack/\"\n",
        "\n",
        "hist_data = pd.read_csv(os.path.join(DATA_DIR, \"hist_data.csv\"))\n",
        "test = pd.read_csv(os.path.join(DATA_DIR, \"test.csv\"))"
      ]
    },
    {
      "cell_type": "markdown",
      "metadata": {
        "id": "gh-65R-_tMid"
      },
      "source": [
        "# Part 0. Loading data"
      ]
    },
    {
      "cell_type": "markdown",
      "metadata": {
        "id": "mwAlW6lZyE4I"
      },
      "source": [
        "hist_data.csv - исторические данные о покупках\n",
        "- buyer_id - id покупателя\n",
        "- pav_order_id - id заказа\n",
        "- created - время добавления в заказ\n",
        "- item_id - id item'а\n",
        "- count - количество выбранного товара в заказе\n",
        "- price_sold - цена за 1 item\n",
        "- flag_weight_goods - бинарный флаг того, является ли товар весовым\n",
        "- weight - вес заказа\n",
        "\n",
        "test.csv - текущее состояние корзины (последний заказ пользователя)\n",
        "- buyer_id - id покупателя\n",
        "- pav_order_id - id заказа\n",
        "- created - время добавления в заказ\n",
        "- item_id - id item'а (товара)\n",
        "- count - количество выбранного товара в заказе\n",
        "- price_sold - цена за 1 item\n",
        "- flag_weight_goods - бинарный флаг того, является ли товар весовым"
      ]
    },
    {
      "cell_type": "code",
      "execution_count": null,
      "metadata": {
        "id": "8c4iyiRDsvT6"
      },
      "outputs": [],
      "source": [
        "def simple_info(df: pd.DataFrame) -> None: \n",
        "    display(\n",
        "        df.shape,\n",
        "        pd.concat((\n",
        "            pd.concat((df.head(2), df.sample(3))),\n",
        "            df.tail(2)\n",
        "        ))\n",
        "    )"
      ]
    },
    {
      "cell_type": "code",
      "execution_count": null,
      "metadata": {
        "colab": {
          "base_uri": "https://localhost:8080/",
          "height": 283
        },
        "id": "WFnzh-gWuNEN",
        "outputId": "bb6fb457-43cc-4f2f-f3c4-f98eb4389254"
      },
      "outputs": [
        {
          "data": {
            "text/plain": [
              "(4529889, 8)"
            ]
          },
          "metadata": {},
          "output_type": "display_data"
        },
        {
          "data": {
            "text/html": [
              "\n",
              "  <div id=\"df-7f787e7d-d3cc-4ce3-8594-d0ffd6b78081\">\n",
              "    <div class=\"colab-df-container\">\n",
              "      <div>\n",
              "<style scoped>\n",
              "    .dataframe tbody tr th:only-of-type {\n",
              "        vertical-align: middle;\n",
              "    }\n",
              "\n",
              "    .dataframe tbody tr th {\n",
              "        vertical-align: top;\n",
              "    }\n",
              "\n",
              "    .dataframe thead th {\n",
              "        text-align: right;\n",
              "    }\n",
              "</style>\n",
              "<table border=\"1\" class=\"dataframe\">\n",
              "  <thead>\n",
              "    <tr style=\"text-align: right;\">\n",
              "      <th></th>\n",
              "      <th>buyer_id</th>\n",
              "      <th>pav_order_id</th>\n",
              "      <th>created</th>\n",
              "      <th>item_id</th>\n",
              "      <th>count</th>\n",
              "      <th>price_sold</th>\n",
              "      <th>flag_weight_goods</th>\n",
              "      <th>weight</th>\n",
              "    </tr>\n",
              "  </thead>\n",
              "  <tbody>\n",
              "    <tr>\n",
              "      <th>0</th>\n",
              "      <td>95203091</td>\n",
              "      <td>98506637863</td>\n",
              "      <td>2021-07-01 00:03:44</td>\n",
              "      <td>202808329</td>\n",
              "      <td>1.000</td>\n",
              "      <td>79.990</td>\n",
              "      <td>False</td>\n",
              "      <td>11.14</td>\n",
              "    </tr>\n",
              "    <tr>\n",
              "      <th>1</th>\n",
              "      <td>95203091</td>\n",
              "      <td>98506637863</td>\n",
              "      <td>2021-07-01 00:03:44</td>\n",
              "      <td>202953905</td>\n",
              "      <td>1.072</td>\n",
              "      <td>44.945</td>\n",
              "      <td>True</td>\n",
              "      <td>11.14</td>\n",
              "    </tr>\n",
              "    <tr>\n",
              "      <th>2532363</th>\n",
              "      <td>95090304</td>\n",
              "      <td>98513613476</td>\n",
              "      <td>2021-08-03 19:08:08</td>\n",
              "      <td>203408257</td>\n",
              "      <td>1.000</td>\n",
              "      <td>49.990</td>\n",
              "      <td>False</td>\n",
              "      <td>4.39</td>\n",
              "    </tr>\n",
              "    <tr>\n",
              "      <th>2449868</th>\n",
              "      <td>94762672</td>\n",
              "      <td>98513390539</td>\n",
              "      <td>2021-08-02 16:28:52</td>\n",
              "      <td>203999545</td>\n",
              "      <td>1.000</td>\n",
              "      <td>49.990</td>\n",
              "      <td>False</td>\n",
              "      <td>5.87</td>\n",
              "    </tr>\n",
              "    <tr>\n",
              "      <th>1599613</th>\n",
              "      <td>96094843</td>\n",
              "      <td>98511225652</td>\n",
              "      <td>2021-07-22 11:53:11</td>\n",
              "      <td>203269249</td>\n",
              "      <td>1.000</td>\n",
              "      <td>13.580</td>\n",
              "      <td>False</td>\n",
              "      <td>10.71</td>\n",
              "    </tr>\n",
              "    <tr>\n",
              "      <th>4529887</th>\n",
              "      <td>95619205</td>\n",
              "      <td>4620221347</td>\n",
              "      <td>2021-09-07 18:48:29</td>\n",
              "      <td>203566418</td>\n",
              "      <td>1.000</td>\n",
              "      <td>62.190</td>\n",
              "      <td>False</td>\n",
              "      <td>9.84</td>\n",
              "    </tr>\n",
              "    <tr>\n",
              "      <th>4529888</th>\n",
              "      <td>95619205</td>\n",
              "      <td>4620221347</td>\n",
              "      <td>2021-09-07 18:48:29</td>\n",
              "      <td>204351820</td>\n",
              "      <td>1.000</td>\n",
              "      <td>99.990</td>\n",
              "      <td>False</td>\n",
              "      <td>9.84</td>\n",
              "    </tr>\n",
              "  </tbody>\n",
              "</table>\n",
              "</div>\n",
              "      <button class=\"colab-df-convert\" onclick=\"convertToInteractive('df-7f787e7d-d3cc-4ce3-8594-d0ffd6b78081')\"\n",
              "              title=\"Convert this dataframe to an interactive table.\"\n",
              "              style=\"display:none;\">\n",
              "        \n",
              "  <svg xmlns=\"http://www.w3.org/2000/svg\" height=\"24px\"viewBox=\"0 0 24 24\"\n",
              "       width=\"24px\">\n",
              "    <path d=\"M0 0h24v24H0V0z\" fill=\"none\"/>\n",
              "    <path d=\"M18.56 5.44l.94 2.06.94-2.06 2.06-.94-2.06-.94-.94-2.06-.94 2.06-2.06.94zm-11 1L8.5 8.5l.94-2.06 2.06-.94-2.06-.94L8.5 2.5l-.94 2.06-2.06.94zm10 10l.94 2.06.94-2.06 2.06-.94-2.06-.94-.94-2.06-.94 2.06-2.06.94z\"/><path d=\"M17.41 7.96l-1.37-1.37c-.4-.4-.92-.59-1.43-.59-.52 0-1.04.2-1.43.59L10.3 9.45l-7.72 7.72c-.78.78-.78 2.05 0 2.83L4 21.41c.39.39.9.59 1.41.59.51 0 1.02-.2 1.41-.59l7.78-7.78 2.81-2.81c.8-.78.8-2.07 0-2.86zM5.41 20L4 18.59l7.72-7.72 1.47 1.35L5.41 20z\"/>\n",
              "  </svg>\n",
              "      </button>\n",
              "      \n",
              "  <style>\n",
              "    .colab-df-container {\n",
              "      display:flex;\n",
              "      flex-wrap:wrap;\n",
              "      gap: 12px;\n",
              "    }\n",
              "\n",
              "    .colab-df-convert {\n",
              "      background-color: #E8F0FE;\n",
              "      border: none;\n",
              "      border-radius: 50%;\n",
              "      cursor: pointer;\n",
              "      display: none;\n",
              "      fill: #1967D2;\n",
              "      height: 32px;\n",
              "      padding: 0 0 0 0;\n",
              "      width: 32px;\n",
              "    }\n",
              "\n",
              "    .colab-df-convert:hover {\n",
              "      background-color: #E2EBFA;\n",
              "      box-shadow: 0px 1px 2px rgba(60, 64, 67, 0.3), 0px 1px 3px 1px rgba(60, 64, 67, 0.15);\n",
              "      fill: #174EA6;\n",
              "    }\n",
              "\n",
              "    [theme=dark] .colab-df-convert {\n",
              "      background-color: #3B4455;\n",
              "      fill: #D2E3FC;\n",
              "    }\n",
              "\n",
              "    [theme=dark] .colab-df-convert:hover {\n",
              "      background-color: #434B5C;\n",
              "      box-shadow: 0px 1px 3px 1px rgba(0, 0, 0, 0.15);\n",
              "      filter: drop-shadow(0px 1px 2px rgba(0, 0, 0, 0.3));\n",
              "      fill: #FFFFFF;\n",
              "    }\n",
              "  </style>\n",
              "\n",
              "      <script>\n",
              "        const buttonEl =\n",
              "          document.querySelector('#df-7f787e7d-d3cc-4ce3-8594-d0ffd6b78081 button.colab-df-convert');\n",
              "        buttonEl.style.display =\n",
              "          google.colab.kernel.accessAllowed ? 'block' : 'none';\n",
              "\n",
              "        async function convertToInteractive(key) {\n",
              "          const element = document.querySelector('#df-7f787e7d-d3cc-4ce3-8594-d0ffd6b78081');\n",
              "          const dataTable =\n",
              "            await google.colab.kernel.invokeFunction('convertToInteractive',\n",
              "                                                     [key], {});\n",
              "          if (!dataTable) return;\n",
              "\n",
              "          const docLinkHtml = 'Like what you see? Visit the ' +\n",
              "            '<a target=\"_blank\" href=https://colab.research.google.com/notebooks/data_table.ipynb>data table notebook</a>'\n",
              "            + ' to learn more about interactive tables.';\n",
              "          element.innerHTML = '';\n",
              "          dataTable['output_type'] = 'display_data';\n",
              "          await google.colab.output.renderOutput(dataTable, element);\n",
              "          const docLink = document.createElement('div');\n",
              "          docLink.innerHTML = docLinkHtml;\n",
              "          element.appendChild(docLink);\n",
              "        }\n",
              "      </script>\n",
              "    </div>\n",
              "  </div>\n",
              "  "
            ],
            "text/plain": [
              "         buyer_id  pav_order_id              created    item_id  count  \\\n",
              "0        95203091   98506637863  2021-07-01 00:03:44  202808329  1.000   \n",
              "1        95203091   98506637863  2021-07-01 00:03:44  202953905  1.072   \n",
              "2532363  95090304   98513613476  2021-08-03 19:08:08  203408257  1.000   \n",
              "2449868  94762672   98513390539  2021-08-02 16:28:52  203999545  1.000   \n",
              "1599613  96094843   98511225652  2021-07-22 11:53:11  203269249  1.000   \n",
              "4529887  95619205    4620221347  2021-09-07 18:48:29  203566418  1.000   \n",
              "4529888  95619205    4620221347  2021-09-07 18:48:29  204351820  1.000   \n",
              "\n",
              "         price_sold  flag_weight_goods  weight  \n",
              "0            79.990              False   11.14  \n",
              "1            44.945               True   11.14  \n",
              "2532363      49.990              False    4.39  \n",
              "2449868      49.990              False    5.87  \n",
              "1599613      13.580              False   10.71  \n",
              "4529887      62.190              False    9.84  \n",
              "4529888      99.990              False    9.84  "
            ]
          },
          "metadata": {},
          "output_type": "display_data"
        }
      ],
      "source": [
        "simple_info(hist_data)"
      ]
    },
    {
      "cell_type": "code",
      "execution_count": null,
      "metadata": {
        "colab": {
          "base_uri": "https://localhost:8080/",
          "height": 283
        },
        "id": "RAA8v0ePuRLI",
        "outputId": "13252e61-3f3d-498e-c63d-c3c9088ab24d"
      },
      "outputs": [
        {
          "data": {
            "text/plain": [
              "(1081420, 7)"
            ]
          },
          "metadata": {},
          "output_type": "display_data"
        },
        {
          "data": {
            "text/html": [
              "\n",
              "  <div id=\"df-988c348e-1e94-4ba0-8386-138ddbf5bbc8\">\n",
              "    <div class=\"colab-df-container\">\n",
              "      <div>\n",
              "<style scoped>\n",
              "    .dataframe tbody tr th:only-of-type {\n",
              "        vertical-align: middle;\n",
              "    }\n",
              "\n",
              "    .dataframe tbody tr th {\n",
              "        vertical-align: top;\n",
              "    }\n",
              "\n",
              "    .dataframe thead th {\n",
              "        text-align: right;\n",
              "    }\n",
              "</style>\n",
              "<table border=\"1\" class=\"dataframe\">\n",
              "  <thead>\n",
              "    <tr style=\"text-align: right;\">\n",
              "      <th></th>\n",
              "      <th>buyer_id</th>\n",
              "      <th>pav_order_id</th>\n",
              "      <th>created</th>\n",
              "      <th>item_id</th>\n",
              "      <th>count</th>\n",
              "      <th>price_sold</th>\n",
              "      <th>flag_weight_goods</th>\n",
              "    </tr>\n",
              "  </thead>\n",
              "  <tbody>\n",
              "    <tr>\n",
              "      <th>0</th>\n",
              "      <td>94640077</td>\n",
              "      <td>98519243164</td>\n",
              "      <td>2021-08-30 17:56:31</td>\n",
              "      <td>203053459</td>\n",
              "      <td>1.00</td>\n",
              "      <td>67.62</td>\n",
              "      <td>False</td>\n",
              "    </tr>\n",
              "    <tr>\n",
              "      <th>1</th>\n",
              "      <td>95865222</td>\n",
              "      <td>98512083628</td>\n",
              "      <td>2021-07-26 16:17:21</td>\n",
              "      <td>202967705</td>\n",
              "      <td>1.14</td>\n",
              "      <td>406.80</td>\n",
              "      <td>True</td>\n",
              "    </tr>\n",
              "    <tr>\n",
              "      <th>875127</th>\n",
              "      <td>94761197</td>\n",
              "      <td>98517242515</td>\n",
              "      <td>2021-08-21 23:10:04</td>\n",
              "      <td>203480880</td>\n",
              "      <td>1.00</td>\n",
              "      <td>169.89</td>\n",
              "      <td>False</td>\n",
              "    </tr>\n",
              "    <tr>\n",
              "      <th>856732</th>\n",
              "      <td>95092891</td>\n",
              "      <td>98512896248</td>\n",
              "      <td>2021-07-31 08:16:58</td>\n",
              "      <td>203101233</td>\n",
              "      <td>1.00</td>\n",
              "      <td>419.89</td>\n",
              "      <td>False</td>\n",
              "    </tr>\n",
              "    <tr>\n",
              "      <th>373493</th>\n",
              "      <td>95864944</td>\n",
              "      <td>98514748200</td>\n",
              "      <td>2021-08-09 15:48:57</td>\n",
              "      <td>203439079</td>\n",
              "      <td>1.00</td>\n",
              "      <td>116.49</td>\n",
              "      <td>False</td>\n",
              "    </tr>\n",
              "    <tr>\n",
              "      <th>1081418</th>\n",
              "      <td>95688424</td>\n",
              "      <td>98509396234</td>\n",
              "      <td>2021-07-13 14:41:37</td>\n",
              "      <td>203423005</td>\n",
              "      <td>1.00</td>\n",
              "      <td>46.74</td>\n",
              "      <td>False</td>\n",
              "    </tr>\n",
              "    <tr>\n",
              "      <th>1081419</th>\n",
              "      <td>96135931</td>\n",
              "      <td>98513272242</td>\n",
              "      <td>2021-08-02 06:41:34</td>\n",
              "      <td>202808313</td>\n",
              "      <td>1.00</td>\n",
              "      <td>80.10</td>\n",
              "      <td>False</td>\n",
              "    </tr>\n",
              "  </tbody>\n",
              "</table>\n",
              "</div>\n",
              "      <button class=\"colab-df-convert\" onclick=\"convertToInteractive('df-988c348e-1e94-4ba0-8386-138ddbf5bbc8')\"\n",
              "              title=\"Convert this dataframe to an interactive table.\"\n",
              "              style=\"display:none;\">\n",
              "        \n",
              "  <svg xmlns=\"http://www.w3.org/2000/svg\" height=\"24px\"viewBox=\"0 0 24 24\"\n",
              "       width=\"24px\">\n",
              "    <path d=\"M0 0h24v24H0V0z\" fill=\"none\"/>\n",
              "    <path d=\"M18.56 5.44l.94 2.06.94-2.06 2.06-.94-2.06-.94-.94-2.06-.94 2.06-2.06.94zm-11 1L8.5 8.5l.94-2.06 2.06-.94-2.06-.94L8.5 2.5l-.94 2.06-2.06.94zm10 10l.94 2.06.94-2.06 2.06-.94-2.06-.94-.94-2.06-.94 2.06-2.06.94z\"/><path d=\"M17.41 7.96l-1.37-1.37c-.4-.4-.92-.59-1.43-.59-.52 0-1.04.2-1.43.59L10.3 9.45l-7.72 7.72c-.78.78-.78 2.05 0 2.83L4 21.41c.39.39.9.59 1.41.59.51 0 1.02-.2 1.41-.59l7.78-7.78 2.81-2.81c.8-.78.8-2.07 0-2.86zM5.41 20L4 18.59l7.72-7.72 1.47 1.35L5.41 20z\"/>\n",
              "  </svg>\n",
              "      </button>\n",
              "      \n",
              "  <style>\n",
              "    .colab-df-container {\n",
              "      display:flex;\n",
              "      flex-wrap:wrap;\n",
              "      gap: 12px;\n",
              "    }\n",
              "\n",
              "    .colab-df-convert {\n",
              "      background-color: #E8F0FE;\n",
              "      border: none;\n",
              "      border-radius: 50%;\n",
              "      cursor: pointer;\n",
              "      display: none;\n",
              "      fill: #1967D2;\n",
              "      height: 32px;\n",
              "      padding: 0 0 0 0;\n",
              "      width: 32px;\n",
              "    }\n",
              "\n",
              "    .colab-df-convert:hover {\n",
              "      background-color: #E2EBFA;\n",
              "      box-shadow: 0px 1px 2px rgba(60, 64, 67, 0.3), 0px 1px 3px 1px rgba(60, 64, 67, 0.15);\n",
              "      fill: #174EA6;\n",
              "    }\n",
              "\n",
              "    [theme=dark] .colab-df-convert {\n",
              "      background-color: #3B4455;\n",
              "      fill: #D2E3FC;\n",
              "    }\n",
              "\n",
              "    [theme=dark] .colab-df-convert:hover {\n",
              "      background-color: #434B5C;\n",
              "      box-shadow: 0px 1px 3px 1px rgba(0, 0, 0, 0.15);\n",
              "      filter: drop-shadow(0px 1px 2px rgba(0, 0, 0, 0.3));\n",
              "      fill: #FFFFFF;\n",
              "    }\n",
              "  </style>\n",
              "\n",
              "      <script>\n",
              "        const buttonEl =\n",
              "          document.querySelector('#df-988c348e-1e94-4ba0-8386-138ddbf5bbc8 button.colab-df-convert');\n",
              "        buttonEl.style.display =\n",
              "          google.colab.kernel.accessAllowed ? 'block' : 'none';\n",
              "\n",
              "        async function convertToInteractive(key) {\n",
              "          const element = document.querySelector('#df-988c348e-1e94-4ba0-8386-138ddbf5bbc8');\n",
              "          const dataTable =\n",
              "            await google.colab.kernel.invokeFunction('convertToInteractive',\n",
              "                                                     [key], {});\n",
              "          if (!dataTable) return;\n",
              "\n",
              "          const docLinkHtml = 'Like what you see? Visit the ' +\n",
              "            '<a target=\"_blank\" href=https://colab.research.google.com/notebooks/data_table.ipynb>data table notebook</a>'\n",
              "            + ' to learn more about interactive tables.';\n",
              "          element.innerHTML = '';\n",
              "          dataTable['output_type'] = 'display_data';\n",
              "          await google.colab.output.renderOutput(dataTable, element);\n",
              "          const docLink = document.createElement('div');\n",
              "          docLink.innerHTML = docLinkHtml;\n",
              "          element.appendChild(docLink);\n",
              "        }\n",
              "      </script>\n",
              "    </div>\n",
              "  </div>\n",
              "  "
            ],
            "text/plain": [
              "         buyer_id  pav_order_id              created    item_id  count  \\\n",
              "0        94640077   98519243164  2021-08-30 17:56:31  203053459   1.00   \n",
              "1        95865222   98512083628  2021-07-26 16:17:21  202967705   1.14   \n",
              "875127   94761197   98517242515  2021-08-21 23:10:04  203480880   1.00   \n",
              "856732   95092891   98512896248  2021-07-31 08:16:58  203101233   1.00   \n",
              "373493   95864944   98514748200  2021-08-09 15:48:57  203439079   1.00   \n",
              "1081418  95688424   98509396234  2021-07-13 14:41:37  203423005   1.00   \n",
              "1081419  96135931   98513272242  2021-08-02 06:41:34  202808313   1.00   \n",
              "\n",
              "         price_sold  flag_weight_goods  \n",
              "0             67.62              False  \n",
              "1            406.80               True  \n",
              "875127       169.89              False  \n",
              "856732       419.89              False  \n",
              "373493       116.49              False  \n",
              "1081418       46.74              False  \n",
              "1081419       80.10              False  "
            ]
          },
          "metadata": {},
          "output_type": "display_data"
        }
      ],
      "source": [
        "simple_info(test)"
      ]
    },
    {
      "cell_type": "code",
      "execution_count": null,
      "metadata": {
        "id": "Lt2LQ5QPtjuX"
      },
      "outputs": [],
      "source": [
        "# метрики оцениваются для вектора релевантности. пример:\n",
        "# реальные item_id, которые приобрел покупатель: [1 ,4, 5, 69]\n",
        "# рекомендованные алгоритмом item_id: [4, 6, 7, 8, 1, 2, 67, 90]\n",
        "# тогда вектор релеватности будет выглядеть следующим образом: [1, 0, 0, 0, 1, 0, 0, 0]\n",
        "# и уже по не му будет расчитываться ndcg\n",
        "def dcg(\n",
        "    y_relevance: np.ndarray\n",
        ") -> float:\n",
        "    \n",
        "    return np.sum([(2**i - 1) / np.log2(k + 1) for (k, i) in enumerate(y_relevance, start=1)])\n",
        "\n",
        "def ndcg(\n",
        "    y_relevance: np.ndarray,\n",
        "    k: int\n",
        ") -> float:\n",
        "    \n",
        "    if y_relevance.sum() == 0:\n",
        "        return 0.0\n",
        "    DCG = dcg(y_relevance[:k])\n",
        "    IDCG = dcg(-np.sort(-y_relevance)[:k])\n",
        "    return DCG / IDCG"
      ]
    },
    {
      "cell_type": "markdown",
      "metadata": {
        "id": "1J2rJUaIu6Ho"
      },
      "source": [
        "# Part I. Preparation"
      ]
    },
    {
      "cell_type": "code",
      "execution_count": null,
      "metadata": {
        "id": "AwcDwlYf0oTo"
      },
      "outputs": [],
      "source": [
        "import numpy as np\n",
        "import pandas as pd\n",
        "import scipy.sparse as sp\n",
        "\n",
        "\n",
        "class BuyerEncoder:\n",
        "    def __init__(self, buyer_ids: np.array):\n",
        "        \"\"\"Class for encoding buyer ids\"\"\"\n",
        "        self.buyers_mapping = {}\n",
        "        self.buyers_inv_mapping = {}\n",
        "        for idx, bid in enumerate(buyer_ids):\n",
        "            self.buyers_mapping[bid] = idx\n",
        "            self.buyers_inv_mapping[idx] = bid\n",
        "\n",
        "    def toIdx(self, bid: int) -> int:\n",
        "        return self.buyers_mapping[bid]\n",
        "\n",
        "    def toId(self, idx: int) -> int:\n",
        "        return self.buyers_inv_mapping[idx]\n",
        "\n",
        "    @property\n",
        "    def num_buyers(self):\n",
        "        return len(self.buyers_mapping)\n",
        "\n",
        "\n",
        "class ItemEncoder:\n",
        "    def __init__(self, item_ids: np.array):\n",
        "        \"\"\"Class for encoding item ids\"\"\"\n",
        "        self.items_mapping = {}\n",
        "        self.items_inv_mapping = {}\n",
        "        for idx, iid in enumerate(item_ids):\n",
        "            self.items_mapping[iid] = idx\n",
        "            self.items_inv_mapping[idx] = iid\n",
        "\n",
        "    def toIdx(self, iid: int) -> int:\n",
        "        return self.items_mapping[iid]\n",
        "\n",
        "    def toId(self, idx: int) -> int:\n",
        "        return self.items_inv_mapping[idx]\n",
        "\n",
        "    @property\n",
        "    def num_items(self):\n",
        "        return len(self.items_mapping)\n",
        "\n",
        "\n",
        "def make_coo_matrix(\n",
        "        df: pd.DataFrame,        \n",
        "        buyer_encoder: BuyerEncoder, \n",
        "        item_encoder: ItemEncoder, \n",
        "        buyer_col: str='buyer_id', \n",
        "        item_col: str='item_id',\n",
        "        weights_col=None, \n",
        "        normalize=False\n",
        "):\n",
        "    \"\"\"https://docs.scipy.org/doc/scipy/reference/generated/scipy.sparse.coo_matrix.html\"\"\"\n",
        "    if weights_col is None:\n",
        "        weights = np.ones(len(df), dtype=np.float32)\n",
        "    else:\n",
        "        weights = df[weights_col].astype(np.float32)\n",
        "\n",
        "    sparse_matrix = sp.coo_matrix((\n",
        "        weights,\n",
        "        (\n",
        "            df[buyer_col].map(buyer_encoder.buyers_mapping.get), \n",
        "            df[item_col].map(item_encoder.items_mapping.get)\n",
        "        )\n",
        "        ), shape=(buyer_encoder.num_buyers, item_encoder.num_items)\n",
        "    )\n",
        "\n",
        "    if normalize:\n",
        "        sparse_matrix = sp.coo_matrix(\n",
        "            np.divide(\n",
        "                sparse_matrix.toarray().T, \n",
        "                np.sum(sparse_matrix.toarray(), axis=1, dtype=int)\n",
        "            ).T\n",
        "        )\n",
        "\n",
        "    return sparse_matrix"
      ]
    },
    {
      "cell_type": "code",
      "execution_count": null,
      "metadata": {
        "id": "GkzzGYAS7pST"
      },
      "outputs": [],
      "source": [
        "buyer_encoder = BuyerEncoder(np.unique(hist_data.buyer_id))\n",
        "item_encoder = ItemEncoder(np.unique(hist_data.item_id))"
      ]
    },
    {
      "cell_type": "code",
      "execution_count": null,
      "metadata": {
        "colab": {
          "base_uri": "https://localhost:8080/"
        },
        "id": "w98V3OTg7t40",
        "outputId": "fb374740-a5f5-4b5e-9020-8d6f1499d6f6"
      },
      "outputs": [
        {
          "name": "stdout",
          "output_type": "stream",
          "text": [
            "CPU times: user 4 µs, sys: 0 ns, total: 4 µs\n",
            "Wall time: 9.3 µs\n"
          ]
        },
        {
          "data": {
            "text/plain": [
              "<63925x52472 sparse matrix of type '<class 'numpy.float32'>'\n",
              "\twith 3644166 stored elements in Compressed Sparse Row format>"
            ]
          },
          "execution_count": 46,
          "metadata": {},
          "output_type": "execute_result"
        }
      ],
      "source": [
        "%time\n",
        "interactions_matrix = make_coo_matrix(\n",
        "    hist_data, \n",
        "    buyer_encoder=buyer_encoder, item_encoder=item_encoder\n",
        ").tocsr()\n",
        "interactions_matrix"
      ]
    },
    {
      "cell_type": "code",
      "execution_count": null,
      "metadata": {
        "colab": {
          "base_uri": "https://localhost:8080/"
        },
        "id": "h_w1suvC93Lw",
        "outputId": "88932b82-d8da-4ed1-81b9-f5f466d2ed53"
      },
      "outputs": [
        {
          "data": {
            "text/plain": [
              "0.0010864251164320992"
            ]
          },
          "execution_count": 47,
          "metadata": {},
          "output_type": "execute_result"
        }
      ],
      "source": [
        "interactions_matrix.size / np.prod(interactions_matrix.shape)"
      ]
    },
    {
      "cell_type": "markdown",
      "metadata": {
        "id": "DX6H1Ydn-Yco"
      },
      "source": [
        "# Part III: Item Based Recommendations"
      ]
    },
    {
      "cell_type": "markdown",
      "metadata": {
        "id": "odbYjp9_-Ys5"
      },
      "source": [
        "## BM25Recommender Implicit"
      ]
    },
    {
      "cell_type": "code",
      "execution_count": null,
      "metadata": {
        "colab": {
          "base_uri": "https://localhost:8080/"
        },
        "id": "ZQRYnLSv-cuR",
        "outputId": "ea2cea01-0193-41c1-adc4-8646a8f1f8c3"
      },
      "outputs": [
        {
          "name": "stdout",
          "output_type": "stream",
          "text": [
            "Requirement already satisfied: implicit in /usr/local/lib/python3.7/dist-packages (0.5.2)\n",
            "Requirement already satisfied: scipy>=0.16 in /usr/local/lib/python3.7/dist-packages (from implicit) (1.4.1)\n",
            "Requirement already satisfied: numpy in /usr/local/lib/python3.7/dist-packages (from implicit) (1.21.5)\n",
            "Requirement already satisfied: tqdm>=4.27 in /usr/local/lib/python3.7/dist-packages (from implicit) (4.63.0)\n"
          ]
        }
      ],
      "source": [
        "!pip install -q implicit\n",
        "from implicit.nearest_neighbours import BM25Recommender"
      ]
    },
    {
      "cell_type": "code",
      "execution_count": null,
      "metadata": {
        "colab": {
          "base_uri": "https://localhost:8080/"
        },
        "id": "ZKxzPXgECDK8",
        "outputId": "155c6c9e-9f07-4c24-8bb3-c349fbd5550c"
      },
      "outputs": [
        {
          "data": {
            "text/plain": [
              "(63925, 52472)"
            ]
          },
          "execution_count": 14,
          "metadata": {},
          "output_type": "execute_result"
        }
      ],
      "source": [
        "interactions_matrix.shape"
      ]
    },
    {
      "cell_type": "markdown",
      "metadata": {
        "id": "2vbfeWzL-eAy"
      },
      "source": [
        "Параметры ${K1, B}$ позаимствованы отсюда [BM25](https://ru.wikipedia.org/wiki/Okapi_BM25)"
      ]
    },
    {
      "cell_type": "code",
      "execution_count": null,
      "metadata": {
        "colab": {
          "base_uri": "https://localhost:8080/",
          "height": 49,
          "referenced_widgets": [
            "b6a91910157f49d88fce96f9a54a38c3",
            "6d48754cee6c47ada18023ef8a696ede",
            "5221e7e5e4ba4e7dab0d0d6c945d2336",
            "a84a175bc3dc43fb94ed589ed46a46f8",
            "5baf39e145a245da87b2420aa995cd2d",
            "d6fbf34308d146739db909ef289575c4",
            "235e69a8a2594644a4403600f6974760",
            "953013cf8d8340f88ed729a57757a52a",
            "c5e84f170324483090a3d5ca468a50b9",
            "1d99d35ef5fa4526916f172450790560",
            "0c8f222c1fd0483ab044ed4a3fe56803"
          ]
        },
        "id": "V0_aRGdR-hYn",
        "outputId": "c71fb241-4530-4a25-9fe6-9775f9780c6a"
      },
      "outputs": [
        {
          "data": {
            "application/vnd.jupyter.widget-view+json": {
              "model_id": "b6a91910157f49d88fce96f9a54a38c3",
              "version_major": 2,
              "version_minor": 0
            },
            "text/plain": [
              "  0%|          | 0/63925 [00:00<?, ?it/s]"
            ]
          },
          "metadata": {},
          "output_type": "display_data"
        }
      ],
      "source": [
        "bm25_model = BM25Recommender(K=34, K1=2.0, B=0.75)\n",
        "bm25_model.fit(interactions_matrix.T)"
      ]
    },
    {
      "cell_type": "code",
      "execution_count": 131,
      "metadata": {
        "id": "CKc-M8J7-nmD"
      },
      "outputs": [],
      "source": [
        "TOP_N = 20\n",
        "\n",
        "def get_recs(buyer_id):\n",
        "    buyer_idx = buyer_encoder.toIdx(buyer_id)\n",
        "    recs = bm25_model.recommend(\n",
        "        buyer_idx, \n",
        "        interactions_matrix, \n",
        "        N=TOP_N,\n",
        "        filter_already_liked_items=True\n",
        "    )[0]\n",
        "    return [item_encoder.toId(item) for item in recs]"
      ]
    },
    {
      "cell_type": "code",
      "source": [
        "list(item_encoder.items_inv_mapping.keys())[-1]"
      ],
      "metadata": {
        "colab": {
          "base_uri": "https://localhost:8080/"
        },
        "id": "qBX_EWFqZBoM",
        "outputId": "286cc029-e649-4306-8efe-3ee64f01f364"
      },
      "execution_count": 147,
      "outputs": [
        {
          "output_type": "execute_result",
          "data": {
            "text/plain": [
              "52471"
            ]
          },
          "metadata": {},
          "execution_count": 147
        }
      ]
    },
    {
      "cell_type": "code",
      "source": [
        "for bid in test['buyer_id'].unique():\n",
        "    print(get_recs(bid))"
      ],
      "metadata": {
        "colab": {
          "base_uri": "https://localhost:8080/",
          "height": 324
        },
        "id": "-uqzEATdXkZq",
        "outputId": "e374e01d-9142-4a4d-9efb-ccee5ce94c7b"
      },
      "execution_count": 132,
      "outputs": [
        {
          "output_type": "error",
          "ename": "KeyError",
          "evalue": "ignored",
          "traceback": [
            "\u001b[0;31m---------------------------------------------------------------------------\u001b[0m",
            "\u001b[0;31mKeyError\u001b[0m                                  Traceback (most recent call last)",
            "\u001b[0;32m<ipython-input-132-e849b199e514>\u001b[0m in \u001b[0;36m<module>\u001b[0;34m()\u001b[0m\n\u001b[1;32m      1\u001b[0m \u001b[0;32mfor\u001b[0m \u001b[0mbid\u001b[0m \u001b[0;32min\u001b[0m \u001b[0mtest\u001b[0m\u001b[0;34m[\u001b[0m\u001b[0;34m'buyer_id'\u001b[0m\u001b[0;34m]\u001b[0m\u001b[0;34m.\u001b[0m\u001b[0munique\u001b[0m\u001b[0;34m(\u001b[0m\u001b[0;34m)\u001b[0m\u001b[0;34m:\u001b[0m\u001b[0;34m\u001b[0m\u001b[0;34m\u001b[0m\u001b[0m\n\u001b[0;32m----> 2\u001b[0;31m     \u001b[0mprint\u001b[0m\u001b[0;34m(\u001b[0m\u001b[0mget_recs\u001b[0m\u001b[0;34m(\u001b[0m\u001b[0mbid\u001b[0m\u001b[0;34m)\u001b[0m\u001b[0;34m)\u001b[0m\u001b[0;34m\u001b[0m\u001b[0;34m\u001b[0m\u001b[0m\n\u001b[0m",
            "\u001b[0;32m<ipython-input-131-9130293c4503>\u001b[0m in \u001b[0;36mget_recs\u001b[0;34m(buyer_id)\u001b[0m\n\u001b[1;32m      9\u001b[0m         \u001b[0mfilter_already_liked_items\u001b[0m\u001b[0;34m=\u001b[0m\u001b[0;32mTrue\u001b[0m\u001b[0;34m\u001b[0m\u001b[0;34m\u001b[0m\u001b[0m\n\u001b[1;32m     10\u001b[0m     )[0]\n\u001b[0;32m---> 11\u001b[0;31m     \u001b[0;32mreturn\u001b[0m \u001b[0;34m[\u001b[0m\u001b[0mitem_encoder\u001b[0m\u001b[0;34m.\u001b[0m\u001b[0mtoId\u001b[0m\u001b[0;34m(\u001b[0m\u001b[0mitem\u001b[0m\u001b[0;34m)\u001b[0m \u001b[0;32mfor\u001b[0m \u001b[0mitem\u001b[0m \u001b[0;32min\u001b[0m \u001b[0mrecs\u001b[0m\u001b[0;34m]\u001b[0m\u001b[0;34m\u001b[0m\u001b[0;34m\u001b[0m\u001b[0m\n\u001b[0m",
            "\u001b[0;32m<ipython-input-131-9130293c4503>\u001b[0m in \u001b[0;36m<listcomp>\u001b[0;34m(.0)\u001b[0m\n\u001b[1;32m      9\u001b[0m         \u001b[0mfilter_already_liked_items\u001b[0m\u001b[0;34m=\u001b[0m\u001b[0;32mTrue\u001b[0m\u001b[0;34m\u001b[0m\u001b[0;34m\u001b[0m\u001b[0m\n\u001b[1;32m     10\u001b[0m     )[0]\n\u001b[0;32m---> 11\u001b[0;31m     \u001b[0;32mreturn\u001b[0m \u001b[0;34m[\u001b[0m\u001b[0mitem_encoder\u001b[0m\u001b[0;34m.\u001b[0m\u001b[0mtoId\u001b[0m\u001b[0;34m(\u001b[0m\u001b[0mitem\u001b[0m\u001b[0;34m)\u001b[0m \u001b[0;32mfor\u001b[0m \u001b[0mitem\u001b[0m \u001b[0;32min\u001b[0m \u001b[0mrecs\u001b[0m\u001b[0;34m]\u001b[0m\u001b[0;34m\u001b[0m\u001b[0;34m\u001b[0m\u001b[0m\n\u001b[0m",
            "\u001b[0;32m<ipython-input-41-9099802bfcf3>\u001b[0m in \u001b[0;36mtoId\u001b[0;34m(self, idx)\u001b[0m\n\u001b[1;32m     37\u001b[0m \u001b[0;34m\u001b[0m\u001b[0m\n\u001b[1;32m     38\u001b[0m     \u001b[0;32mdef\u001b[0m \u001b[0mtoId\u001b[0m\u001b[0;34m(\u001b[0m\u001b[0mself\u001b[0m\u001b[0;34m,\u001b[0m \u001b[0midx\u001b[0m\u001b[0;34m:\u001b[0m \u001b[0mint\u001b[0m\u001b[0;34m)\u001b[0m \u001b[0;34m->\u001b[0m \u001b[0mint\u001b[0m\u001b[0;34m:\u001b[0m\u001b[0;34m\u001b[0m\u001b[0;34m\u001b[0m\u001b[0m\n\u001b[0;32m---> 39\u001b[0;31m         \u001b[0;32mreturn\u001b[0m \u001b[0mself\u001b[0m\u001b[0;34m.\u001b[0m\u001b[0mitems_inv_mapping\u001b[0m\u001b[0;34m[\u001b[0m\u001b[0midx\u001b[0m\u001b[0;34m]\u001b[0m\u001b[0;34m\u001b[0m\u001b[0;34m\u001b[0m\u001b[0m\n\u001b[0m\u001b[1;32m     40\u001b[0m \u001b[0;34m\u001b[0m\u001b[0m\n\u001b[1;32m     41\u001b[0m     \u001b[0;34m@\u001b[0m\u001b[0mproperty\u001b[0m\u001b[0;34m\u001b[0m\u001b[0;34m\u001b[0m\u001b[0m\n",
            "\u001b[0;31mKeyError\u001b[0m: 60495"
          ]
        }
      ]
    },
    {
      "cell_type": "code",
      "execution_count": 128,
      "metadata": {
        "colab": {
          "base_uri": "https://localhost:8080/",
          "height": 392
        },
        "id": "H9JtutaV_Gab",
        "outputId": "bc8b4955-af67-4ee0-da26-de869fbaad98"
      },
      "outputs": [
        {
          "output_type": "stream",
          "name": "stdout",
          "text": [
            "CPU times: user 4 µs, sys: 0 ns, total: 4 µs\n",
            "Wall time: 7.87 µs\n"
          ]
        },
        {
          "output_type": "error",
          "ename": "TypeError",
          "evalue": "ignored",
          "traceback": [
            "\u001b[0;31m---------------------------------------------------------------------------\u001b[0m",
            "\u001b[0;31mTypeError\u001b[0m                                 Traceback (most recent call last)",
            "\u001b[0;32m<ipython-input-128-1c56275b03ce>\u001b[0m in \u001b[0;36m<module>\u001b[0;34m()\u001b[0m\n\u001b[1;32m      3\u001b[0m     \u001b[0;34m'pav_order_id'\u001b[0m\u001b[0;34m:\u001b[0m \u001b[0mtest\u001b[0m\u001b[0;34m[\u001b[0m\u001b[0;34m'pav_order_id'\u001b[0m\u001b[0;34m]\u001b[0m\u001b[0;34m.\u001b[0m\u001b[0munique\u001b[0m\u001b[0;34m(\u001b[0m\u001b[0;34m)\u001b[0m\u001b[0;34m\u001b[0m\u001b[0;34m\u001b[0m\u001b[0m\n\u001b[1;32m      4\u001b[0m })\n\u001b[0;32m----> 5\u001b[0;31m \u001b[0mrecs\u001b[0m\u001b[0;34m[\u001b[0m\u001b[0;34m'item_id'\u001b[0m\u001b[0;34m]\u001b[0m \u001b[0;34m=\u001b[0m \u001b[0;34m[\u001b[0m\u001b[0mget_recs\u001b[0m\u001b[0;34m(\u001b[0m\u001b[0mbid\u001b[0m\u001b[0;34m)\u001b[0m \u001b[0;32mfor\u001b[0m \u001b[0mbid\u001b[0m \u001b[0;32min\u001b[0m \u001b[0mtest\u001b[0m\u001b[0;34m[\u001b[0m\u001b[0;34m'buyer_id'\u001b[0m\u001b[0;34m]\u001b[0m\u001b[0;34m.\u001b[0m\u001b[0munique\u001b[0m\u001b[0;34m(\u001b[0m\u001b[0;34m)\u001b[0m\u001b[0;34m]\u001b[0m\u001b[0;34m\u001b[0m\u001b[0;34m\u001b[0m\u001b[0m\n\u001b[0m\u001b[1;32m      6\u001b[0m \u001b[0mrecs\u001b[0m\u001b[0;34m\u001b[0m\u001b[0;34m\u001b[0m\u001b[0m\n",
            "\u001b[0;32m<ipython-input-128-1c56275b03ce>\u001b[0m in \u001b[0;36m<listcomp>\u001b[0;34m(.0)\u001b[0m\n\u001b[1;32m      3\u001b[0m     \u001b[0;34m'pav_order_id'\u001b[0m\u001b[0;34m:\u001b[0m \u001b[0mtest\u001b[0m\u001b[0;34m[\u001b[0m\u001b[0;34m'pav_order_id'\u001b[0m\u001b[0;34m]\u001b[0m\u001b[0;34m.\u001b[0m\u001b[0munique\u001b[0m\u001b[0;34m(\u001b[0m\u001b[0;34m)\u001b[0m\u001b[0;34m\u001b[0m\u001b[0;34m\u001b[0m\u001b[0m\n\u001b[1;32m      4\u001b[0m })\n\u001b[0;32m----> 5\u001b[0;31m \u001b[0mrecs\u001b[0m\u001b[0;34m[\u001b[0m\u001b[0;34m'item_id'\u001b[0m\u001b[0;34m]\u001b[0m \u001b[0;34m=\u001b[0m \u001b[0;34m[\u001b[0m\u001b[0mget_recs\u001b[0m\u001b[0;34m(\u001b[0m\u001b[0mbid\u001b[0m\u001b[0;34m)\u001b[0m \u001b[0;32mfor\u001b[0m \u001b[0mbid\u001b[0m \u001b[0;32min\u001b[0m \u001b[0mtest\u001b[0m\u001b[0;34m[\u001b[0m\u001b[0;34m'buyer_id'\u001b[0m\u001b[0;34m]\u001b[0m\u001b[0;34m.\u001b[0m\u001b[0munique\u001b[0m\u001b[0;34m(\u001b[0m\u001b[0;34m)\u001b[0m\u001b[0;34m]\u001b[0m\u001b[0;34m\u001b[0m\u001b[0;34m\u001b[0m\u001b[0m\n\u001b[0m\u001b[1;32m      6\u001b[0m \u001b[0mrecs\u001b[0m\u001b[0;34m\u001b[0m\u001b[0;34m\u001b[0m\u001b[0m\n",
            "\u001b[0;32m<ipython-input-126-ea48030cf106>\u001b[0m in \u001b[0;36mget_recs\u001b[0;34m(buyer_id)\u001b[0m\n\u001b[1;32m      9\u001b[0m         \u001b[0mfilter_already_liked_items\u001b[0m\u001b[0;34m=\u001b[0m\u001b[0;32mTrue\u001b[0m\u001b[0;34m\u001b[0m\u001b[0;34m\u001b[0m\u001b[0m\n\u001b[1;32m     10\u001b[0m     )\n\u001b[0;32m---> 11\u001b[0;31m     \u001b[0;32mreturn\u001b[0m \u001b[0;34m[\u001b[0m\u001b[0mitem_encoder\u001b[0m\u001b[0;34m.\u001b[0m\u001b[0mtoId\u001b[0m\u001b[0;34m(\u001b[0m\u001b[0mitem\u001b[0m\u001b[0;34m)\u001b[0m \u001b[0;32mfor\u001b[0m \u001b[0mitem\u001b[0m \u001b[0;32min\u001b[0m \u001b[0mrecs\u001b[0m\u001b[0;34m]\u001b[0m\u001b[0;34m\u001b[0m\u001b[0;34m\u001b[0m\u001b[0m\n\u001b[0m",
            "\u001b[0;32m<ipython-input-126-ea48030cf106>\u001b[0m in \u001b[0;36m<listcomp>\u001b[0;34m(.0)\u001b[0m\n\u001b[1;32m      9\u001b[0m         \u001b[0mfilter_already_liked_items\u001b[0m\u001b[0;34m=\u001b[0m\u001b[0;32mTrue\u001b[0m\u001b[0;34m\u001b[0m\u001b[0;34m\u001b[0m\u001b[0m\n\u001b[1;32m     10\u001b[0m     )\n\u001b[0;32m---> 11\u001b[0;31m     \u001b[0;32mreturn\u001b[0m \u001b[0;34m[\u001b[0m\u001b[0mitem_encoder\u001b[0m\u001b[0;34m.\u001b[0m\u001b[0mtoId\u001b[0m\u001b[0;34m(\u001b[0m\u001b[0mitem\u001b[0m\u001b[0;34m)\u001b[0m \u001b[0;32mfor\u001b[0m \u001b[0mitem\u001b[0m \u001b[0;32min\u001b[0m \u001b[0mrecs\u001b[0m\u001b[0;34m]\u001b[0m\u001b[0;34m\u001b[0m\u001b[0;34m\u001b[0m\u001b[0m\n\u001b[0m",
            "\u001b[0;32m<ipython-input-41-9099802bfcf3>\u001b[0m in \u001b[0;36mtoId\u001b[0;34m(self, idx)\u001b[0m\n\u001b[1;32m     37\u001b[0m \u001b[0;34m\u001b[0m\u001b[0m\n\u001b[1;32m     38\u001b[0m     \u001b[0;32mdef\u001b[0m \u001b[0mtoId\u001b[0m\u001b[0;34m(\u001b[0m\u001b[0mself\u001b[0m\u001b[0;34m,\u001b[0m \u001b[0midx\u001b[0m\u001b[0;34m:\u001b[0m \u001b[0mint\u001b[0m\u001b[0;34m)\u001b[0m \u001b[0;34m->\u001b[0m \u001b[0mint\u001b[0m\u001b[0;34m:\u001b[0m\u001b[0;34m\u001b[0m\u001b[0;34m\u001b[0m\u001b[0m\n\u001b[0;32m---> 39\u001b[0;31m         \u001b[0;32mreturn\u001b[0m \u001b[0mself\u001b[0m\u001b[0;34m.\u001b[0m\u001b[0mitems_inv_mapping\u001b[0m\u001b[0;34m[\u001b[0m\u001b[0midx\u001b[0m\u001b[0;34m]\u001b[0m\u001b[0;34m\u001b[0m\u001b[0;34m\u001b[0m\u001b[0m\n\u001b[0m\u001b[1;32m     40\u001b[0m \u001b[0;34m\u001b[0m\u001b[0m\n\u001b[1;32m     41\u001b[0m     \u001b[0;34m@\u001b[0m\u001b[0mproperty\u001b[0m\u001b[0;34m\u001b[0m\u001b[0;34m\u001b[0m\u001b[0m\n",
            "\u001b[0;31mTypeError\u001b[0m: unhashable type: 'numpy.ndarray'"
          ]
        }
      ],
      "source": [
        "%time\n",
        "recs = pd.DataFrame({\n",
        "    'pav_order_id': test['pav_order_id'].unique()\n",
        "})\n",
        "recs['item_id'] = [get_recs(bid) for bid in test['buyer_id'].unique()]\n",
        "recs"
      ]
    },
    {
      "cell_type": "code",
      "execution_count": 121,
      "metadata": {
        "id": "T2P_-jXsMOXP"
      },
      "outputs": [],
      "source": [
        "def _recs_mapper(buyer_id):\n",
        "    buyer_idx = buyer_encoder.toIdx(buyer_id)\n",
        "    recs = bm25_model.recommend(\n",
        "        buyer_idx, \n",
        "        interactions_matrix, \n",
        "        N=TOP_N,\n",
        "        filter_already_liked_items=True\n",
        "    )[0]\n",
        "    return [item for item in recs]\n",
        "    # return [item_encoder.toId(item) for item, _ in recs]"
      ]
    },
    {
      "cell_type": "code",
      "source": [
        ""
      ],
      "metadata": {
        "id": "HPUjhY8HTfTe"
      },
      "execution_count": 120,
      "outputs": []
    },
    {
      "cell_type": "code",
      "source": [
        ""
      ],
      "metadata": {
        "id": "4NyRZ1RTTfrm"
      },
      "execution_count": 120,
      "outputs": []
    },
    {
      "cell_type": "code",
      "execution_count": null,
      "metadata": {
        "colab": {
          "base_uri": "https://localhost:8080/",
          "height": 419
        },
        "id": "3N9YFQkwDsbq",
        "outputId": "6930f302-0bdd-45cc-e2b5-2db9865bd36e"
      },
      "outputs": [
        {
          "data": {
            "text/html": [
              "\n",
              "  <div id=\"df-7442abb5-d15d-4097-bb8a-2b033a3f6108\">\n",
              "    <div class=\"colab-df-container\">\n",
              "      <div>\n",
              "<style scoped>\n",
              "    .dataframe tbody tr th:only-of-type {\n",
              "        vertical-align: middle;\n",
              "    }\n",
              "\n",
              "    .dataframe tbody tr th {\n",
              "        vertical-align: top;\n",
              "    }\n",
              "\n",
              "    .dataframe thead th {\n",
              "        text-align: right;\n",
              "    }\n",
              "</style>\n",
              "<table border=\"1\" class=\"dataframe\">\n",
              "  <thead>\n",
              "    <tr style=\"text-align: right;\">\n",
              "      <th></th>\n",
              "      <th>pav_order_id</th>\n",
              "    </tr>\n",
              "  </thead>\n",
              "  <tbody>\n",
              "    <tr>\n",
              "      <th>0</th>\n",
              "      <td>98519243164</td>\n",
              "    </tr>\n",
              "    <tr>\n",
              "      <th>1</th>\n",
              "      <td>98512083628</td>\n",
              "    </tr>\n",
              "    <tr>\n",
              "      <th>2</th>\n",
              "      <td>98519972197</td>\n",
              "    </tr>\n",
              "    <tr>\n",
              "      <th>3</th>\n",
              "      <td>98518646272</td>\n",
              "    </tr>\n",
              "    <tr>\n",
              "      <th>4</th>\n",
              "      <td>98510857920</td>\n",
              "    </tr>\n",
              "    <tr>\n",
              "      <th>...</th>\n",
              "      <td>...</td>\n",
              "    </tr>\n",
              "    <tr>\n",
              "      <th>80239</th>\n",
              "      <td>98519541004</td>\n",
              "    </tr>\n",
              "    <tr>\n",
              "      <th>80240</th>\n",
              "      <td>98519131074</td>\n",
              "    </tr>\n",
              "    <tr>\n",
              "      <th>80241</th>\n",
              "      <td>98516851043</td>\n",
              "    </tr>\n",
              "    <tr>\n",
              "      <th>80242</th>\n",
              "      <td>98515690157</td>\n",
              "    </tr>\n",
              "    <tr>\n",
              "      <th>80243</th>\n",
              "      <td>98517843784</td>\n",
              "    </tr>\n",
              "  </tbody>\n",
              "</table>\n",
              "<p>80244 rows × 1 columns</p>\n",
              "</div>\n",
              "      <button class=\"colab-df-convert\" onclick=\"convertToInteractive('df-7442abb5-d15d-4097-bb8a-2b033a3f6108')\"\n",
              "              title=\"Convert this dataframe to an interactive table.\"\n",
              "              style=\"display:none;\">\n",
              "        \n",
              "  <svg xmlns=\"http://www.w3.org/2000/svg\" height=\"24px\"viewBox=\"0 0 24 24\"\n",
              "       width=\"24px\">\n",
              "    <path d=\"M0 0h24v24H0V0z\" fill=\"none\"/>\n",
              "    <path d=\"M18.56 5.44l.94 2.06.94-2.06 2.06-.94-2.06-.94-.94-2.06-.94 2.06-2.06.94zm-11 1L8.5 8.5l.94-2.06 2.06-.94-2.06-.94L8.5 2.5l-.94 2.06-2.06.94zm10 10l.94 2.06.94-2.06 2.06-.94-2.06-.94-.94-2.06-.94 2.06-2.06.94z\"/><path d=\"M17.41 7.96l-1.37-1.37c-.4-.4-.92-.59-1.43-.59-.52 0-1.04.2-1.43.59L10.3 9.45l-7.72 7.72c-.78.78-.78 2.05 0 2.83L4 21.41c.39.39.9.59 1.41.59.51 0 1.02-.2 1.41-.59l7.78-7.78 2.81-2.81c.8-.78.8-2.07 0-2.86zM5.41 20L4 18.59l7.72-7.72 1.47 1.35L5.41 20z\"/>\n",
              "  </svg>\n",
              "      </button>\n",
              "      \n",
              "  <style>\n",
              "    .colab-df-container {\n",
              "      display:flex;\n",
              "      flex-wrap:wrap;\n",
              "      gap: 12px;\n",
              "    }\n",
              "\n",
              "    .colab-df-convert {\n",
              "      background-color: #E8F0FE;\n",
              "      border: none;\n",
              "      border-radius: 50%;\n",
              "      cursor: pointer;\n",
              "      display: none;\n",
              "      fill: #1967D2;\n",
              "      height: 32px;\n",
              "      padding: 0 0 0 0;\n",
              "      width: 32px;\n",
              "    }\n",
              "\n",
              "    .colab-df-convert:hover {\n",
              "      background-color: #E2EBFA;\n",
              "      box-shadow: 0px 1px 2px rgba(60, 64, 67, 0.3), 0px 1px 3px 1px rgba(60, 64, 67, 0.15);\n",
              "      fill: #174EA6;\n",
              "    }\n",
              "\n",
              "    [theme=dark] .colab-df-convert {\n",
              "      background-color: #3B4455;\n",
              "      fill: #D2E3FC;\n",
              "    }\n",
              "\n",
              "    [theme=dark] .colab-df-convert:hover {\n",
              "      background-color: #434B5C;\n",
              "      box-shadow: 0px 1px 3px 1px rgba(0, 0, 0, 0.15);\n",
              "      filter: drop-shadow(0px 1px 2px rgba(0, 0, 0, 0.3));\n",
              "      fill: #FFFFFF;\n",
              "    }\n",
              "  </style>\n",
              "\n",
              "      <script>\n",
              "        const buttonEl =\n",
              "          document.querySelector('#df-7442abb5-d15d-4097-bb8a-2b033a3f6108 button.colab-df-convert');\n",
              "        buttonEl.style.display =\n",
              "          google.colab.kernel.accessAllowed ? 'block' : 'none';\n",
              "\n",
              "        async function convertToInteractive(key) {\n",
              "          const element = document.querySelector('#df-7442abb5-d15d-4097-bb8a-2b033a3f6108');\n",
              "          const dataTable =\n",
              "            await google.colab.kernel.invokeFunction('convertToInteractive',\n",
              "                                                     [key], {});\n",
              "          if (!dataTable) return;\n",
              "\n",
              "          const docLinkHtml = 'Like what you see? Visit the ' +\n",
              "            '<a target=\"_blank\" href=https://colab.research.google.com/notebooks/data_table.ipynb>data table notebook</a>'\n",
              "            + ' to learn more about interactive tables.';\n",
              "          element.innerHTML = '';\n",
              "          dataTable['output_type'] = 'display_data';\n",
              "          await google.colab.output.renderOutput(dataTable, element);\n",
              "          const docLink = document.createElement('div');\n",
              "          docLink.innerHTML = docLinkHtml;\n",
              "          element.appendChild(docLink);\n",
              "        }\n",
              "      </script>\n",
              "    </div>\n",
              "  </div>\n",
              "  "
            ],
            "text/plain": [
              "       pav_order_id\n",
              "0       98519243164\n",
              "1       98512083628\n",
              "2       98519972197\n",
              "3       98518646272\n",
              "4       98510857920\n",
              "...             ...\n",
              "80239   98519541004\n",
              "80240   98519131074\n",
              "80241   98516851043\n",
              "80242   98515690157\n",
              "80243   98517843784\n",
              "\n",
              "[80244 rows x 1 columns]"
            ]
          },
          "execution_count": 99,
          "metadata": {},
          "output_type": "execute_result"
        }
      ],
      "source": [
        "recs"
      ]
    },
    {
      "cell_type": "code",
      "execution_count": null,
      "metadata": {
        "id": "INQ5Vy1l_SE9"
      },
      "outputs": [],
      "source": [
        ""
      ]
    }
  ],
  "metadata": {
    "colab": {
      "collapsed_sections": [],
      "name": "Copy of Welcome to Colaboratory",
      "provenance": [],
      "toc_visible": true
    },
    "kernelspec": {
      "display_name": "Python 3",
      "name": "python3"
    },
    "widgets": {
      "application/vnd.jupyter.widget-state+json": {
        "0c8f222c1fd0483ab044ed4a3fe56803": {
          "model_module": "@jupyter-widgets/controls",
          "model_module_version": "1.5.0",
          "model_name": "DescriptionStyleModel",
          "state": {
            "_model_module": "@jupyter-widgets/controls",
            "_model_module_version": "1.5.0",
            "_model_name": "DescriptionStyleModel",
            "_view_count": null,
            "_view_module": "@jupyter-widgets/base",
            "_view_module_version": "1.2.0",
            "_view_name": "StyleView",
            "description_width": ""
          }
        },
        "1d99d35ef5fa4526916f172450790560": {
          "model_module": "@jupyter-widgets/base",
          "model_module_version": "1.2.0",
          "model_name": "LayoutModel",
          "state": {
            "_model_module": "@jupyter-widgets/base",
            "_model_module_version": "1.2.0",
            "_model_name": "LayoutModel",
            "_view_count": null,
            "_view_module": "@jupyter-widgets/base",
            "_view_module_version": "1.2.0",
            "_view_name": "LayoutView",
            "align_content": null,
            "align_items": null,
            "align_self": null,
            "border": null,
            "bottom": null,
            "display": null,
            "flex": null,
            "flex_flow": null,
            "grid_area": null,
            "grid_auto_columns": null,
            "grid_auto_flow": null,
            "grid_auto_rows": null,
            "grid_column": null,
            "grid_gap": null,
            "grid_row": null,
            "grid_template_areas": null,
            "grid_template_columns": null,
            "grid_template_rows": null,
            "height": null,
            "justify_content": null,
            "justify_items": null,
            "left": null,
            "margin": null,
            "max_height": null,
            "max_width": null,
            "min_height": null,
            "min_width": null,
            "object_fit": null,
            "object_position": null,
            "order": null,
            "overflow": null,
            "overflow_x": null,
            "overflow_y": null,
            "padding": null,
            "right": null,
            "top": null,
            "visibility": null,
            "width": null
          }
        },
        "235e69a8a2594644a4403600f6974760": {
          "model_module": "@jupyter-widgets/controls",
          "model_module_version": "1.5.0",
          "model_name": "DescriptionStyleModel",
          "state": {
            "_model_module": "@jupyter-widgets/controls",
            "_model_module_version": "1.5.0",
            "_model_name": "DescriptionStyleModel",
            "_view_count": null,
            "_view_module": "@jupyter-widgets/base",
            "_view_module_version": "1.2.0",
            "_view_name": "StyleView",
            "description_width": ""
          }
        },
        "5221e7e5e4ba4e7dab0d0d6c945d2336": {
          "model_module": "@jupyter-widgets/controls",
          "model_module_version": "1.5.0",
          "model_name": "FloatProgressModel",
          "state": {
            "_dom_classes": [],
            "_model_module": "@jupyter-widgets/controls",
            "_model_module_version": "1.5.0",
            "_model_name": "FloatProgressModel",
            "_view_count": null,
            "_view_module": "@jupyter-widgets/controls",
            "_view_module_version": "1.5.0",
            "_view_name": "ProgressView",
            "bar_style": "danger",
            "description": "",
            "description_tooltip": null,
            "layout": "IPY_MODEL_953013cf8d8340f88ed729a57757a52a",
            "max": 63925,
            "min": 0,
            "orientation": "horizontal",
            "style": "IPY_MODEL_c5e84f170324483090a3d5ca468a50b9",
            "value": 63923
          }
        },
        "5baf39e145a245da87b2420aa995cd2d": {
          "model_module": "@jupyter-widgets/base",
          "model_module_version": "1.2.0",
          "model_name": "LayoutModel",
          "state": {
            "_model_module": "@jupyter-widgets/base",
            "_model_module_version": "1.2.0",
            "_model_name": "LayoutModel",
            "_view_count": null,
            "_view_module": "@jupyter-widgets/base",
            "_view_module_version": "1.2.0",
            "_view_name": "LayoutView",
            "align_content": null,
            "align_items": null,
            "align_self": null,
            "border": null,
            "bottom": null,
            "display": null,
            "flex": null,
            "flex_flow": null,
            "grid_area": null,
            "grid_auto_columns": null,
            "grid_auto_flow": null,
            "grid_auto_rows": null,
            "grid_column": null,
            "grid_gap": null,
            "grid_row": null,
            "grid_template_areas": null,
            "grid_template_columns": null,
            "grid_template_rows": null,
            "height": null,
            "justify_content": null,
            "justify_items": null,
            "left": null,
            "margin": null,
            "max_height": null,
            "max_width": null,
            "min_height": null,
            "min_width": null,
            "object_fit": null,
            "object_position": null,
            "order": null,
            "overflow": null,
            "overflow_x": null,
            "overflow_y": null,
            "padding": null,
            "right": null,
            "top": null,
            "visibility": null,
            "width": null
          }
        },
        "6d48754cee6c47ada18023ef8a696ede": {
          "model_module": "@jupyter-widgets/controls",
          "model_module_version": "1.5.0",
          "model_name": "HTMLModel",
          "state": {
            "_dom_classes": [],
            "_model_module": "@jupyter-widgets/controls",
            "_model_module_version": "1.5.0",
            "_model_name": "HTMLModel",
            "_view_count": null,
            "_view_module": "@jupyter-widgets/controls",
            "_view_module_version": "1.5.0",
            "_view_name": "HTMLView",
            "description": "",
            "description_tooltip": null,
            "layout": "IPY_MODEL_d6fbf34308d146739db909ef289575c4",
            "placeholder": "​",
            "style": "IPY_MODEL_235e69a8a2594644a4403600f6974760",
            "value": "100%"
          }
        },
        "953013cf8d8340f88ed729a57757a52a": {
          "model_module": "@jupyter-widgets/base",
          "model_module_version": "1.2.0",
          "model_name": "LayoutModel",
          "state": {
            "_model_module": "@jupyter-widgets/base",
            "_model_module_version": "1.2.0",
            "_model_name": "LayoutModel",
            "_view_count": null,
            "_view_module": "@jupyter-widgets/base",
            "_view_module_version": "1.2.0",
            "_view_name": "LayoutView",
            "align_content": null,
            "align_items": null,
            "align_self": null,
            "border": null,
            "bottom": null,
            "display": null,
            "flex": null,
            "flex_flow": null,
            "grid_area": null,
            "grid_auto_columns": null,
            "grid_auto_flow": null,
            "grid_auto_rows": null,
            "grid_column": null,
            "grid_gap": null,
            "grid_row": null,
            "grid_template_areas": null,
            "grid_template_columns": null,
            "grid_template_rows": null,
            "height": null,
            "justify_content": null,
            "justify_items": null,
            "left": null,
            "margin": null,
            "max_height": null,
            "max_width": null,
            "min_height": null,
            "min_width": null,
            "object_fit": null,
            "object_position": null,
            "order": null,
            "overflow": null,
            "overflow_x": null,
            "overflow_y": null,
            "padding": null,
            "right": null,
            "top": null,
            "visibility": null,
            "width": null
          }
        },
        "a84a175bc3dc43fb94ed589ed46a46f8": {
          "model_module": "@jupyter-widgets/controls",
          "model_module_version": "1.5.0",
          "model_name": "HTMLModel",
          "state": {
            "_dom_classes": [],
            "_model_module": "@jupyter-widgets/controls",
            "_model_module_version": "1.5.0",
            "_model_name": "HTMLModel",
            "_view_count": null,
            "_view_module": "@jupyter-widgets/controls",
            "_view_module_version": "1.5.0",
            "_view_name": "HTMLView",
            "description": "",
            "description_tooltip": null,
            "layout": "IPY_MODEL_1d99d35ef5fa4526916f172450790560",
            "placeholder": "​",
            "style": "IPY_MODEL_0c8f222c1fd0483ab044ed4a3fe56803",
            "value": " 63923/63925 [01:14&lt;00:00, 2315.88it/s]"
          }
        },
        "b6a91910157f49d88fce96f9a54a38c3": {
          "model_module": "@jupyter-widgets/controls",
          "model_module_version": "1.5.0",
          "model_name": "HBoxModel",
          "state": {
            "_dom_classes": [],
            "_model_module": "@jupyter-widgets/controls",
            "_model_module_version": "1.5.0",
            "_model_name": "HBoxModel",
            "_view_count": null,
            "_view_module": "@jupyter-widgets/controls",
            "_view_module_version": "1.5.0",
            "_view_name": "HBoxView",
            "box_style": "",
            "children": [
              "IPY_MODEL_6d48754cee6c47ada18023ef8a696ede",
              "IPY_MODEL_5221e7e5e4ba4e7dab0d0d6c945d2336",
              "IPY_MODEL_a84a175bc3dc43fb94ed589ed46a46f8"
            ],
            "layout": "IPY_MODEL_5baf39e145a245da87b2420aa995cd2d"
          }
        },
        "c5e84f170324483090a3d5ca468a50b9": {
          "model_module": "@jupyter-widgets/controls",
          "model_module_version": "1.5.0",
          "model_name": "ProgressStyleModel",
          "state": {
            "_model_module": "@jupyter-widgets/controls",
            "_model_module_version": "1.5.0",
            "_model_name": "ProgressStyleModel",
            "_view_count": null,
            "_view_module": "@jupyter-widgets/base",
            "_view_module_version": "1.2.0",
            "_view_name": "StyleView",
            "bar_color": null,
            "description_width": ""
          }
        },
        "d6fbf34308d146739db909ef289575c4": {
          "model_module": "@jupyter-widgets/base",
          "model_module_version": "1.2.0",
          "model_name": "LayoutModel",
          "state": {
            "_model_module": "@jupyter-widgets/base",
            "_model_module_version": "1.2.0",
            "_model_name": "LayoutModel",
            "_view_count": null,
            "_view_module": "@jupyter-widgets/base",
            "_view_module_version": "1.2.0",
            "_view_name": "LayoutView",
            "align_content": null,
            "align_items": null,
            "align_self": null,
            "border": null,
            "bottom": null,
            "display": null,
            "flex": null,
            "flex_flow": null,
            "grid_area": null,
            "grid_auto_columns": null,
            "grid_auto_flow": null,
            "grid_auto_rows": null,
            "grid_column": null,
            "grid_gap": null,
            "grid_row": null,
            "grid_template_areas": null,
            "grid_template_columns": null,
            "grid_template_rows": null,
            "height": null,
            "justify_content": null,
            "justify_items": null,
            "left": null,
            "margin": null,
            "max_height": null,
            "max_width": null,
            "min_height": null,
            "min_width": null,
            "object_fit": null,
            "object_position": null,
            "order": null,
            "overflow": null,
            "overflow_x": null,
            "overflow_y": null,
            "padding": null,
            "right": null,
            "top": null,
            "visibility": null,
            "width": null
          }
        }
      }
    }
  },
  "nbformat": 4,
  "nbformat_minor": 0
}
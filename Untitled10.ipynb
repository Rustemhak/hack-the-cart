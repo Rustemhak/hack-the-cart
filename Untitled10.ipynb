{
  "nbformat": 4,
  "nbformat_minor": 0,
  "metadata": {
    "colab": {
      "name": "Untitled10.ipynb",
      "provenance": []
    },
    "kernelspec": {
      "name": "python3",
      "display_name": "Python 3"
    },
    "language_info": {
      "name": "python"
    }
  },
  "cells": [
    {
      "cell_type": "code",
      "source": [
        "!pip install efficient-apriori"
      ],
      "metadata": {
        "colab": {
          "base_uri": "https://localhost:8080/"
        },
        "id": "ikIdNG-bBwQ2",
        "outputId": "eb9433a9-ef9e-4569-c21e-e8bff028e995"
      },
      "execution_count": null,
      "outputs": [
        {
          "output_type": "stream",
          "name": "stdout",
          "text": [
            "Collecting efficient-apriori\n",
            "  Downloading efficient_apriori-2.0.1-py3-none-any.whl (14 kB)\n",
            "Installing collected packages: efficient-apriori\n",
            "Successfully installed efficient-apriori-2.0.1\n"
          ]
        }
      ]
    },
    {
      "cell_type": "code",
      "execution_count": null,
      "metadata": {
        "id": "7FWm61BfAgEg"
      },
      "outputs": [],
      "source": [
        "import pandas as pd\n",
        "import numpy as np\n",
        "import gc\n",
        "\n",
        "from collections import Counter \n",
        "from efficient_apriori import apriori\n",
        "\n",
        "hist_data = pd.read_csv('/content/drive/MyDrive/hack-the-cart/hist_data.csv')\n",
        "buyers = hist_data[['buyer_id','item_id', 'pav_order_id']].groupby(by=[\"buyer_id\"])\n",
        "\n",
        "datasets = []\n",
        "user = {}\n",
        "common_datasets = []\n",
        "\n",
        "for id,j in enumerate(buyers):\n",
        "  items = j[1].groupby(by=[\"pav_order_id\"])\n",
        "  user[j[0]] = id\n",
        "  datasets.append([])\n",
        "  for i in items:\n",
        "    data = tuple(i[1]['item_id'].values.tolist())\n",
        "    datasets[id].append(data)\n",
        "    common_datasets.append(data)\n",
        "\n",
        "_,common_rules = apriori(common_datasets, min_support=0.002, min_confidence=0.3,max_length = 2)\n",
        "\n",
        "users_rules = [] \n",
        "for id,user_data in enumerate(datasets):\n",
        "  _,rules = apriori(user_data, min_support=0.35, min_confidence=0.6,max_length = 2)\n",
        "  users_rules.append(rules)\n",
        "\n",
        "test_data = pd.read_csv('/content/drive/MyDrive/hack-the-cart/test.csv')\n",
        "test_orders = test_data[['buyer_id','item_id', 'pav_order_id']].groupby(by=[\"pav_order_id\",'buyer_id'])\n",
        "\n",
        "recomend = {}\n",
        "for order in test_orders:\n",
        "  recomend[order[0][0]] = []\n",
        "  if order[0][1] in user:\n",
        "    for rule in users_rules[user[order[0][1]]]:\n",
        "      if rule.rhs[0] not in recomend[order[0][0]] and rule.lhs[0] in order[1]['item_id'].values and rule.rhs[0] not in order[1]['item_id'].values:\n",
        "        recomend[order[0][0]].append(rule.rhs[0])\n",
        "      if len(recomend[order[0][0]]) == 20:\n",
        "        break;\n",
        "  for rule in common_rules:\n",
        "    if len(recomend[order[0][0]]) == 20:\n",
        "      break;\n",
        "    if rule.rhs[0] not in recomend[order[0][0]] and rule.lhs[0] in order[1]['item_id'].values and rule.rhs[0] not in order[1]['item_id'].values:\n",
        "      recomend[order[0][0]].append(rule.rhs[0])\n",
        "\n",
        "famous = hist_data[[\"item_id\"]].groupby(hist_data[[\"item_id\"]].columns.tolist(),as_index=False).size().sort_values(by=\"size\", ascending=False)[:20][\"item_id\"].values\n",
        "\n",
        "for rec in recomend:\n",
        "  if len(recomend[rec]) < 20:\n",
        "    for item in famous:\n",
        "      if len(recomend[rec]) == 20:\n",
        "        break;\n",
        "      if item not in recomend[rec]:\n",
        "        recomend[rec].append(item)\n",
        "\n",
        "df = pd.DataFrame(\n",
        "    [{\"pav_order_id\": order, \"preds\": recommend} for order,recommend in recomend.items()])\n",
        "     \n",
        "df.to_csv('pred.csv')"
      ]
    }
  ]
}